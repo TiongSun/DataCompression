{
 "cells": [
  {
   "cell_type": "markdown",
   "metadata": {},
   "source": [
    "# BWT"
   ]
  },
  {
   "cell_type": "code",
   "execution_count": 28,
   "metadata": {},
   "outputs": [
    {
     "name": "stdout",
     "output_type": "stream",
     "text": [
      "table =  ['banana$', 'anana$b', 'nana$ba', 'ana$ban', 'na$bana', 'a$banan', '$banana']\n",
      "sorted table =  ['$banana', 'a$banan', 'ana$ban', 'anana$b', 'banana$', 'na$bana', 'nana$ba']\n",
      "annb$aa\n"
     ]
    }
   ],
   "source": [
    "Input = 'banana'\n",
    "\n",
    "assert \"$\" not in Input                     # Input string cannot contain $\n",
    "Input = Input + \"$\"                         # Add \"$\" to the end of the string\n",
    "\n",
    "table = [Input[i:] + Input[:i] for i in range(len(Input))]  # Table of rotations of string\n",
    "print('table = ', table)\n",
    "\n",
    "table = sorted(table)\n",
    "print('sorted table = ', table)\n",
    "\n",
    "last_column = [row[-1:] for row in table]             # Last characters of each row\n",
    "bwt = ''.join(last_column)\n",
    "\n",
    "print(bwt)"
   ]
  },
  {
   "cell_type": "markdown",
   "metadata": {},
   "source": [
    "# Inverse_BWT"
   ]
  },
  {
   "cell_type": "code",
   "execution_count": 29,
   "metadata": {},
   "outputs": [
    {
     "name": "stdout",
     "output_type": "stream",
     "text": [
      "unsorted =  ['a', 'n', 'n', 'b', '$', 'a', 'a']\n",
      "sorted    = ['$', 'a', 'a', 'a', 'b', 'n', 'n']\n",
      "unsorted =  ['a$', 'na', 'na', 'ba', '$b', 'an', 'an']\n",
      "sorted    = ['$b', 'a$', 'an', 'an', 'ba', 'na', 'na']\n",
      "unsorted =  ['a$b', 'na$', 'nan', 'ban', '$ba', 'ana', 'ana']\n",
      "sorted    = ['$ba', 'a$b', 'ana', 'ana', 'ban', 'na$', 'nan']\n",
      "unsorted =  ['a$ba', 'na$b', 'nana', 'bana', '$ban', 'ana$', 'anan']\n",
      "sorted    = ['$ban', 'a$ba', 'ana$', 'anan', 'bana', 'na$b', 'nana']\n",
      "unsorted =  ['a$ban', 'na$ba', 'nana$', 'banan', '$bana', 'ana$b', 'anana']\n",
      "sorted    = ['$bana', 'a$ban', 'ana$b', 'anana', 'banan', 'na$ba', 'nana$']\n",
      "unsorted =  ['a$bana', 'na$ban', 'nana$b', 'banana', '$banan', 'ana$ba', 'anana$']\n",
      "sorted    = ['$banan', 'a$bana', 'ana$ba', 'anana$', 'banana', 'na$ban', 'nana$b']\n",
      "unsorted =  ['a$banan', 'na$bana', 'nana$ba', 'banana$', '$banana', 'ana$ban', 'anana$b']\n",
      "sorted    = ['$banana', 'a$banan', 'ana$ban', 'anana$b', 'banana$', 'na$bana', 'nana$ba']\n",
      "banana\n"
     ]
    }
   ],
   "source": [
    "table = [\"\"] * len(bwt)  # Make empty table\n",
    "\n",
    "for i in range(len(bwt)):\n",
    "    table = [bwt[i] + table[i] for i in range(len(bwt))]  # Add a column of r\n",
    "    print('unsorted = ', table)\n",
    "    table = sorted(table)\n",
    "    print('sorted    =', table)\n",
    "    \n",
    "inverse_bwt = [row for row in table if row.endswith(\"$\")][0]  # Find the correct row (ending in $)\n",
    "\n",
    "inverse_bwt = inverse_bwt.rstrip(\"$\")  # Get rid of start and end markers\n",
    "\n",
    "print(inverse_bwt)"
   ]
  }
 ],
 "metadata": {
  "kernelspec": {
   "display_name": "Python 3",
   "language": "python",
   "name": "python3"
  },
  "language_info": {
   "codemirror_mode": {
    "name": "ipython",
    "version": 3
   },
   "file_extension": ".py",
   "mimetype": "text/x-python",
   "name": "python",
   "nbconvert_exporter": "python",
   "pygments_lexer": "ipython3",
   "version": "3.7.1"
  }
 },
 "nbformat": 4,
 "nbformat_minor": 2
}
