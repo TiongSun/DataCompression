{
 "cells": [
  {
   "cell_type": "markdown",
   "metadata": {},
   "source": [
    "# BWT"
   ]
  },
  {
   "cell_type": "code",
   "execution_count": 13,
   "metadata": {},
   "outputs": [
    {
     "name": "stdout",
     "output_type": "stream",
     "text": [
      "annb$aa\n"
     ]
    }
   ],
   "source": [
    "Input = 'banana'\n",
    "\n",
    "assert \"$\" not in Input           # Input string cannot contain STX and ETX characters\n",
    "Input = Input + \"$\"                         # Add start and end of text marker\n",
    "table = sorted(Input[i:] + Input[:i] for i in range(len(Input)))  # Table of rotations of string\n",
    "last_column = [row[-1:] for row in table]             # Last characters of each row\n",
    "bwt = ''.join(last_column)\n",
    "\n",
    "print(bwt)"
   ]
  },
  {
   "cell_type": "markdown",
   "metadata": {},
   "source": [
    "# Inverse_BWT"
   ]
  },
  {
   "cell_type": "code",
   "execution_count": 14,
   "metadata": {},
   "outputs": [
    {
     "name": "stdout",
     "output_type": "stream",
     "text": [
      "banana\n"
     ]
    }
   ],
   "source": [
    "table = [\"\"] * len(bwt)  # Make empty table\n",
    "\n",
    "for i in range(len(bwt)):\n",
    "    table = sorted(bwt[i] + table[i] for i in range(len(bwt)))  # Add a column of r\n",
    "    \n",
    "inverse_bwt = [row for row in table if row.endswith(\"$\")][0]  # Find the correct row (ending in ETX)\n",
    "\n",
    "inverse_bwt = inverse_bwt.rstrip(\"$\")  # Get rid of start and end markers\n",
    "\n",
    "print(inverse_bwt)"
   ]
  }
 ],
 "metadata": {
  "kernelspec": {
   "display_name": "Python 3",
   "language": "python",
   "name": "python3"
  },
  "language_info": {
   "codemirror_mode": {
    "name": "ipython",
    "version": 3
   },
   "file_extension": ".py",
   "mimetype": "text/x-python",
   "name": "python",
   "nbconvert_exporter": "python",
   "pygments_lexer": "ipython3",
   "version": "3.7.3"
  }
 },
 "nbformat": 4,
 "nbformat_minor": 2
}
