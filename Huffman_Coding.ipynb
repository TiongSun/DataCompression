{
 "cells": [
  {
   "cell_type": "markdown",
   "metadata": {},
   "source": [
    "# Import libraries"
   ]
  },
  {
   "cell_type": "code",
   "execution_count": 69,
   "metadata": {},
   "outputs": [],
   "source": [
    "from heapq import heappush, heappop, heapify\n",
    "from collections import defaultdict\n",
    "from bitarray import bitarray"
   ]
  },
  {
   "cell_type": "markdown",
   "metadata": {},
   "source": [
    "# Input data to be compressed\n",
    "Can be a path to a text file. For simplicity, an example text is used here."
   ]
  },
  {
   "cell_type": "code",
   "execution_count": 70,
   "metadata": {},
   "outputs": [],
   "source": [
    "text = \"HAPPY HAPPY\""
   ]
  },
  {
   "cell_type": "markdown",
   "metadata": {},
   "source": [
    "# Create a library with frequency of each symbols"
   ]
  },
  {
   "cell_type": "code",
   "execution_count": 71,
   "metadata": {},
   "outputs": [
    {
     "name": "stdout",
     "output_type": "stream",
     "text": [
      "defaultdict(<class 'int'>, {'H': 2, 'A': 2, 'P': 4, 'Y': 2, ' ': 1})\n"
     ]
    }
   ],
   "source": [
    "freq_lib = defaultdict(int)    # generate a default library\n",
    "for ch in text:                # count each letter and record into the frequency library \n",
    "    freq_lib[ch] += 1\n",
    "    \n",
    "print(freq_lib)"
   ]
  },
  {
   "cell_type": "markdown",
   "metadata": {},
   "source": [
    "# Create Huffman Tree"
   ]
  },
  {
   "cell_type": "code",
   "execution_count": 72,
   "metadata": {},
   "outputs": [
    {
     "name": "stdout",
     "output_type": "stream",
     "text": [
      "[[2, ['H', '']], [2, ['A', '']], [4, ['P', '']], [2, ['Y', '']], [1, [' ', '']]]\n"
     ]
    }
   ],
   "source": [
    "heap = [[fq, [sym, \"\"]] for sym, fq in freq_lib.items()]  # '' is for entering the huffman code later\n",
    "print(heap)"
   ]
  },
  {
   "cell_type": "code",
   "execution_count": 73,
   "metadata": {},
   "outputs": [
    {
     "name": "stdout",
     "output_type": "stream",
     "text": [
      "[[1, [' ', '']], [2, ['A', '']], [4, ['P', '']], [2, ['Y', '']], [2, ['H', '']]]\n"
     ]
    }
   ],
   "source": [
    "heapify(heap) # transform the list into a heap tree structure\n",
    "print(heap)"
   ]
  },
  {
   "cell_type": "code",
   "execution_count": 74,
   "metadata": {},
   "outputs": [
    {
     "name": "stdout",
     "output_type": "stream",
     "text": [
      "right =  [1, [' ', '']]\n",
      "left =  [2, ['A', '']]\n",
      "right =  [2, ['H', '']]\n",
      "left =  [2, ['Y', '']]\n",
      "right =  [3, [' ', '0'], ['A', '1']]\n",
      "left =  [4, ['H', '0'], ['Y', '1']]\n",
      "right =  [4, ['P', '']]\n",
      "left =  [7, [' ', '00'], ['A', '01'], ['H', '10'], ['Y', '11']]\n"
     ]
    }
   ],
   "source": [
    "while len(heap) > 1:\n",
    "    right = heappop(heap)  # heappop - Pop and return the smallest item from the heap\n",
    "    print('right = ', right)\n",
    "    left = heappop(heap)\n",
    "    print('left = ', left)\n",
    "\n",
    "    for pair in right[1:]:  \n",
    "        pair[1] = '0' + pair[1]   # add zero to all the right note\n",
    "    for pair in left[1:]:  \n",
    "        pair[1] = '1' + pair[1]   # add one to all the left note\n",
    "    heappush(heap, [right[0] + left[0]] + right[1:] + left[1:])  # add values onto the heap. Eg. h = []; heappush(h, (5, 'write code')) --> h = [(5, 'write code')]"
   ]
  },
  {
   "cell_type": "code",
   "execution_count": 75,
   "metadata": {},
   "outputs": [
    {
     "name": "stdout",
     "output_type": "stream",
     "text": [
      "[['P', '0'], [' ', '100'], ['A', '101'], ['H', '110'], ['Y', '111']]\n",
      "{'P': bitarray('0'), ' ': bitarray('100'), 'A': bitarray('101'), 'H': bitarray('110'), 'Y': bitarray('111')}\n"
     ]
    }
   ],
   "source": [
    "huffman_list = right[1:] + left[1:]\n",
    "print(huffman_list)\n",
    "huffman_dict = {a[0]:bitarray(str(a[1])) for a in huffman_list}\n",
    "print(huffman_dict)"
   ]
  },
  {
   "cell_type": "markdown",
   "metadata": {},
   "source": [
    "# Huffman encoding"
   ]
  },
  {
   "cell_type": "code",
   "execution_count": 76,
   "metadata": {},
   "outputs": [
    {
     "name": "stdout",
     "output_type": "stream",
     "text": [
      "bitarray('1101010011110011010100111')\n"
     ]
    }
   ],
   "source": [
    "encoded_text = bitarray()\n",
    "encoded_text.encode(huffman_dict, text)\n",
    "print(encoded_text)"
   ]
  },
  {
   "cell_type": "markdown",
   "metadata": {},
   "source": [
    "# Padding\n",
    "Because data is stored as bytes (8 bits) rather than bits, we need to record the \"padding\" added to the data in order to remove them during decoding"
   ]
  },
  {
   "cell_type": "code",
   "execution_count": 77,
   "metadata": {},
   "outputs": [],
   "source": [
    "padding = 8 - (len(encoded_text) % 8)"
   ]
  },
  {
   "cell_type": "markdown",
   "metadata": {},
   "source": [
    "### Save encoded text as a binary file"
   ]
  },
  {
   "cell_type": "code",
   "execution_count": 78,
   "metadata": {},
   "outputs": [],
   "source": [
    "with open('compressed_file.bin', 'wb') as w:\n",
    "    encoded_text.tofile(w)"
   ]
  },
  {
   "cell_type": "markdown",
   "metadata": {},
   "source": [
    "# Decoding"
   ]
  },
  {
   "cell_type": "code",
   "execution_count": 79,
   "metadata": {},
   "outputs": [
    {
     "name": "stdout",
     "output_type": "stream",
     "text": [
      "HAPPY HAPPY\n"
     ]
    }
   ],
   "source": [
    "decoded_text = bitarray()\n",
    "\n",
    "with open('compressed_file.bin', 'rb') as r:\n",
    "    decoded_text.fromfile(r)\n",
    "    \n",
    "decoded_text = decoded_text[:-padding] # remove padding\n",
    "    \n",
    "decoded_text = decoded_text.decode(huffman_dict) \n",
    "decoded_text = ''.join(decoded_text)\n",
    "\n",
    "print(decoded_text)"
   ]
  },
  {
   "cell_type": "markdown",
   "metadata": {},
   "source": [
    "### Save an uncompressed file for comparison"
   ]
  },
  {
   "cell_type": "code",
   "execution_count": 80,
   "metadata": {},
   "outputs": [],
   "source": [
    "with open('uncompress.bin', 'w') as w:\n",
    "    w.write(text)"
   ]
  }
 ],
 "metadata": {
  "kernelspec": {
   "display_name": "Python 3",
   "language": "python",
   "name": "python3"
  },
  "language_info": {
   "codemirror_mode": {
    "name": "ipython",
    "version": 3
   },
   "file_extension": ".py",
   "mimetype": "text/x-python",
   "name": "python",
   "nbconvert_exporter": "python",
   "pygments_lexer": "ipython3",
   "version": "3.7.3"
  }
 },
 "nbformat": 4,
 "nbformat_minor": 2
}
